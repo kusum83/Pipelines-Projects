{
  "cells": [
    {
      "cell_type": "markdown",
      "metadata": {
        "id": "view-in-github",
        "colab_type": "text"
      },
      "source": [
        "<a href=\"https://colab.research.google.com/github/kusum83/Pipelines-Projects/blob/main/M515_Ethical_Issues_for_AI.ipynb\" target=\"_parent\"><img src=\"https://colab.research.google.com/assets/colab-badge.svg\" alt=\"Open In Colab\"/></a>"
      ]
    },
    {
      "cell_type": "markdown",
      "metadata": {
        "id": "VOkTT6Qote7u"
      },
      "source": []
    },
    {
      "cell_type": "code",
      "execution_count": null,
      "metadata": {
        "id": "rB5XRXa04gij"
      },
      "outputs": [],
      "source": [
        "import pandas as pd\n",
        "import numpy as np\n",
        "from sklearn.model_selection import train_test_split\n",
        "from sklearn.preprocessing import LabelEncoder\n",
        "from sklearn.feature_extraction.text import TfidfVectorizer\n",
        "from sklearn.linear_model import LogisticRegression\n",
        "from sklearn.ensemble import RandomForestClassifier\n",
        "from sklearn.svm import SVC\n",
        "from sklearn.metrics import classification_report, accuracy_score\n",
        "import matplotlib.pyplot as mpt\n",
        "import seaborn as sb"
      ]
    },
    {
      "cell_type": "markdown",
      "metadata": {
        "id": "KCiwJ0_gtw7h"
      },
      "source": []
    },
    {
      "cell_type": "code",
      "execution_count": null,
      "metadata": {
        "colab": {
          "base_uri": "https://localhost:8080/",
          "height": 310
        },
        "id": "ObmQ0ojytxcp",
        "outputId": "be5f5031-ad02-46a5-aa1b-0772f0e40f77"
      },
      "outputs": [
        {
          "data": {
            "application/vnd.google.colaboratory.intrinsic+json": {
              "summary": "{\n  \"name\": \"df\",\n  \"rows\": 10000,\n  \"fields\": [\n    {\n      \"column\": \"Job Applicant Name\",\n      \"properties\": {\n        \"dtype\": \"category\",\n        \"num_unique_values\": 547,\n        \"samples\": [\n          \"Jalen Brooks\",\n          \"Jacob Roberts\",\n          \"Rose Evans\"\n        ],\n        \"semantic_type\": \"\",\n        \"description\": \"\"\n      }\n    },\n    {\n      \"column\": \"Age\",\n      \"properties\": {\n        \"dtype\": \"number\",\n        \"std\": 8,\n        \"min\": 25,\n        \"max\": 55,\n        \"num_unique_values\": 31,\n        \"samples\": [\n          25,\n          37,\n          51\n        ],\n        \"semantic_type\": \"\",\n        \"description\": \"\"\n      }\n    },\n    {\n      \"column\": \"Gender\",\n      \"properties\": {\n        \"dtype\": \"category\",\n        \"num_unique_values\": 2,\n        \"samples\": [\n          \"Female\",\n          \"Male\"\n        ],\n        \"semantic_type\": \"\",\n        \"description\": \"\"\n      }\n    },\n    {\n      \"column\": \"Race\",\n      \"properties\": {\n        \"dtype\": \"category\",\n        \"num_unique_values\": 3,\n        \"samples\": [\n          \"Mongoloid/Asian\",\n          \"White/Caucasian\"\n        ],\n        \"semantic_type\": \"\",\n        \"description\": \"\"\n      }\n    },\n    {\n      \"column\": \"Ethnicity\",\n      \"properties\": {\n        \"dtype\": \"category\",\n        \"num_unique_values\": 21,\n        \"samples\": [\n          \"Vietnamese\",\n          \"German\"\n        ],\n        \"semantic_type\": \"\",\n        \"description\": \"\"\n      }\n    },\n    {\n      \"column\": \"Resume\",\n      \"properties\": {\n        \"dtype\": \"string\",\n        \"num_unique_values\": 9996,\n        \"samples\": [\n          \"Proficient in Patient Consultation, Medical Terminology, Oral Health, Surgical Skills, Oral Hygiene, with mid-level experience in the field. Holds a Masters degree. Holds certifications such as Doctor of Dental Surgery (DDS). Skilled in delivering results and adapting to dynamic environments.\",\n          \"Proficient in Risk Management, Litigation, Client Relations, Negotiation, Business Law, with senior-level experience in the field. Holds a Bachelors degree. Holds certifications such as Certified Legal Consultant (CLC). Skilled in delivering results and adapting to dynamic environments.\"\n        ],\n        \"semantic_type\": \"\",\n        \"description\": \"\"\n      }\n    },\n    {\n      \"column\": \"Job Roles\",\n      \"properties\": {\n        \"dtype\": \"category\",\n        \"num_unique_values\": 51,\n        \"samples\": [\n          \"Electrician\",\n          \"Customer Service Representative\"\n        ],\n        \"semantic_type\": \"\",\n        \"description\": \"\"\n      }\n    },\n    {\n      \"column\": \"Job Description\",\n      \"properties\": {\n        \"dtype\": \"category\",\n        \"num_unique_values\": 51,\n        \"samples\": [\n          \"In this hands-on role, you will be responsible for installing, maintaining, and repairing electrical systems in residential, commercial, and industrial settings. Your expertise in electrical theory, circuitry, and safety standards will be essential to troubleshoot and resolve electrical issues efficiently. The role requires a high level of precision, technical skills, and an ability to work independently in various environments. You will also be expected to stay current with safety codes and advancements in electrical technology, ensuring that systems operate safely and efficiently.\",\n          \"A Customer Service Representative is the face of the company, providing essential support to customers by addressing inquiries, resolving issues, and delivering exceptional service. This role requires excellent communication skills, a friendly demeanor, and the ability to manage difficult situations with tact and patience. As the first point of contact for customers, you will need to exhibit empathy and provide personalized support. Your ability to listen actively and resolve complaints will contribute to customer satisfaction and loyalty, playing a key role in the overall success of the business.\"\n        ],\n        \"semantic_type\": \"\",\n        \"description\": \"\"\n      }\n    },\n    {\n      \"column\": \"Best Match\",\n      \"properties\": {\n        \"dtype\": \"number\",\n        \"std\": 0,\n        \"min\": 0,\n        \"max\": 1,\n        \"num_unique_values\": 2,\n        \"samples\": [\n          1,\n          0\n        ],\n        \"semantic_type\": \"\",\n        \"description\": \"\"\n      }\n    }\n  ]\n}",
              "type": "dataframe",
              "variable_name": "df"
            },
            "text/html": [
              "\n",
              "  <div id=\"df-76a1cc41-e3f2-4b13-aa6e-4c3063f6d1b0\" class=\"colab-df-container\">\n",
              "    <div>\n",
              "<style scoped>\n",
              "    .dataframe tbody tr th:only-of-type {\n",
              "        vertical-align: middle;\n",
              "    }\n",
              "\n",
              "    .dataframe tbody tr th {\n",
              "        vertical-align: top;\n",
              "    }\n",
              "\n",
              "    .dataframe thead th {\n",
              "        text-align: right;\n",
              "    }\n",
              "</style>\n",
              "<table border=\"1\" class=\"dataframe\">\n",
              "  <thead>\n",
              "    <tr style=\"text-align: right;\">\n",
              "      <th></th>\n",
              "      <th>Job Applicant Name</th>\n",
              "      <th>Age</th>\n",
              "      <th>Gender</th>\n",
              "      <th>Race</th>\n",
              "      <th>Ethnicity</th>\n",
              "      <th>Resume</th>\n",
              "      <th>Job Roles</th>\n",
              "      <th>Job Description</th>\n",
              "      <th>Best Match</th>\n",
              "    </tr>\n",
              "  </thead>\n",
              "  <tbody>\n",
              "    <tr>\n",
              "      <th>0</th>\n",
              "      <td>Daisuke Mori</td>\n",
              "      <td>29</td>\n",
              "      <td>Male</td>\n",
              "      <td>Mongoloid/Asian</td>\n",
              "      <td>Vietnamese</td>\n",
              "      <td>Proficient in Injury Prevention, Motivation, N...</td>\n",
              "      <td>Fitness Coach</td>\n",
              "      <td>A Fitness Coach is responsible for helping cl...</td>\n",
              "      <td>0</td>\n",
              "    </tr>\n",
              "    <tr>\n",
              "      <th>1</th>\n",
              "      <td>Taichi Shimizu</td>\n",
              "      <td>31</td>\n",
              "      <td>Male</td>\n",
              "      <td>Mongoloid/Asian</td>\n",
              "      <td>Filipino</td>\n",
              "      <td>Proficient in Healthcare, Pharmacology, Medica...</td>\n",
              "      <td>Physician</td>\n",
              "      <td>Diagnose and treat illnesses, prescribe medica...</td>\n",
              "      <td>0</td>\n",
              "    </tr>\n",
              "    <tr>\n",
              "      <th>2</th>\n",
              "      <td>Sarah Martin</td>\n",
              "      <td>46</td>\n",
              "      <td>Female</td>\n",
              "      <td>White/Caucasian</td>\n",
              "      <td>Dutch</td>\n",
              "      <td>Proficient in Forecasting, Financial Modelling...</td>\n",
              "      <td>Financial Analyst</td>\n",
              "      <td>As a Financial Analyst, you will be responsibl...</td>\n",
              "      <td>0</td>\n",
              "    </tr>\n",
              "    <tr>\n",
              "      <th>3</th>\n",
              "      <td>Keith Hughes</td>\n",
              "      <td>43</td>\n",
              "      <td>Male</td>\n",
              "      <td>Negroid/Black</td>\n",
              "      <td>Caribbean</td>\n",
              "      <td>Proficient in Budgeting, Supply Chain Optimiza...</td>\n",
              "      <td>Supply Chain Manager</td>\n",
              "      <td>A Supply Chain Manager oversees the entire sup...</td>\n",
              "      <td>1</td>\n",
              "    </tr>\n",
              "    <tr>\n",
              "      <th>4</th>\n",
              "      <td>James Davis</td>\n",
              "      <td>49</td>\n",
              "      <td>Male</td>\n",
              "      <td>White/Caucasian</td>\n",
              "      <td>English</td>\n",
              "      <td>Proficient in Logistics, Negotiation, Procurem...</td>\n",
              "      <td>Supply Chain Manager</td>\n",
              "      <td>A Supply Chain Manager oversees the entire sup...</td>\n",
              "      <td>1</td>\n",
              "    </tr>\n",
              "  </tbody>\n",
              "</table>\n",
              "</div>\n",
              "    <div class=\"colab-df-buttons\">\n",
              "\n",
              "  <div class=\"colab-df-container\">\n",
              "    <button class=\"colab-df-convert\" onclick=\"convertToInteractive('df-76a1cc41-e3f2-4b13-aa6e-4c3063f6d1b0')\"\n",
              "            title=\"Convert this dataframe to an interactive table.\"\n",
              "            style=\"display:none;\">\n",
              "\n",
              "  <svg xmlns=\"http://www.w3.org/2000/svg\" height=\"24px\" viewBox=\"0 -960 960 960\">\n",
              "    <path d=\"M120-120v-720h720v720H120Zm60-500h600v-160H180v160Zm220 220h160v-160H400v160Zm0 220h160v-160H400v160ZM180-400h160v-160H180v160Zm440 0h160v-160H620v160ZM180-180h160v-160H180v160Zm440 0h160v-160H620v160Z\"/>\n",
              "  </svg>\n",
              "    </button>\n",
              "\n",
              "  <style>\n",
              "    .colab-df-container {\n",
              "      display:flex;\n",
              "      gap: 12px;\n",
              "    }\n",
              "\n",
              "    .colab-df-convert {\n",
              "      background-color: #E8F0FE;\n",
              "      border: none;\n",
              "      border-radius: 50%;\n",
              "      cursor: pointer;\n",
              "      display: none;\n",
              "      fill: #1967D2;\n",
              "      height: 32px;\n",
              "      padding: 0 0 0 0;\n",
              "      width: 32px;\n",
              "    }\n",
              "\n",
              "    .colab-df-convert:hover {\n",
              "      background-color: #E2EBFA;\n",
              "      box-shadow: 0px 1px 2px rgba(60, 64, 67, 0.3), 0px 1px 3px 1px rgba(60, 64, 67, 0.15);\n",
              "      fill: #174EA6;\n",
              "    }\n",
              "\n",
              "    .colab-df-buttons div {\n",
              "      margin-bottom: 4px;\n",
              "    }\n",
              "\n",
              "    [theme=dark] .colab-df-convert {\n",
              "      background-color: #3B4455;\n",
              "      fill: #D2E3FC;\n",
              "    }\n",
              "\n",
              "    [theme=dark] .colab-df-convert:hover {\n",
              "      background-color: #434B5C;\n",
              "      box-shadow: 0px 1px 3px 1px rgba(0, 0, 0, 0.15);\n",
              "      filter: drop-shadow(0px 1px 2px rgba(0, 0, 0, 0.3));\n",
              "      fill: #FFFFFF;\n",
              "    }\n",
              "  </style>\n",
              "\n",
              "    <script>\n",
              "      const buttonEl =\n",
              "        document.querySelector('#df-76a1cc41-e3f2-4b13-aa6e-4c3063f6d1b0 button.colab-df-convert');\n",
              "      buttonEl.style.display =\n",
              "        google.colab.kernel.accessAllowed ? 'block' : 'none';\n",
              "\n",
              "      async function convertToInteractive(key) {\n",
              "        const element = document.querySelector('#df-76a1cc41-e3f2-4b13-aa6e-4c3063f6d1b0');\n",
              "        const dataTable =\n",
              "          await google.colab.kernel.invokeFunction('convertToInteractive',\n",
              "                                                    [key], {});\n",
              "        if (!dataTable) return;\n",
              "\n",
              "        const docLinkHtml = 'Like what you see? Visit the ' +\n",
              "          '<a target=\"_blank\" href=https://colab.research.google.com/notebooks/data_table.ipynb>data table notebook</a>'\n",
              "          + ' to learn more about interactive tables.';\n",
              "        element.innerHTML = '';\n",
              "        dataTable['output_type'] = 'display_data';\n",
              "        await google.colab.output.renderOutput(dataTable, element);\n",
              "        const docLink = document.createElement('div');\n",
              "        docLink.innerHTML = docLinkHtml;\n",
              "        element.appendChild(docLink);\n",
              "      }\n",
              "    </script>\n",
              "  </div>\n",
              "\n",
              "\n",
              "    <div id=\"df-1f809dd5-55a8-40b9-a9ce-1dd7709a645b\">\n",
              "      <button class=\"colab-df-quickchart\" onclick=\"quickchart('df-1f809dd5-55a8-40b9-a9ce-1dd7709a645b')\"\n",
              "                title=\"Suggest charts\"\n",
              "                style=\"display:none;\">\n",
              "\n",
              "<svg xmlns=\"http://www.w3.org/2000/svg\" height=\"24px\"viewBox=\"0 0 24 24\"\n",
              "     width=\"24px\">\n",
              "    <g>\n",
              "        <path d=\"M19 3H5c-1.1 0-2 .9-2 2v14c0 1.1.9 2 2 2h14c1.1 0 2-.9 2-2V5c0-1.1-.9-2-2-2zM9 17H7v-7h2v7zm4 0h-2V7h2v10zm4 0h-2v-4h2v4z\"/>\n",
              "    </g>\n",
              "</svg>\n",
              "      </button>\n",
              "\n",
              "<style>\n",
              "  .colab-df-quickchart {\n",
              "      --bg-color: #E8F0FE;\n",
              "      --fill-color: #1967D2;\n",
              "      --hover-bg-color: #E2EBFA;\n",
              "      --hover-fill-color: #174EA6;\n",
              "      --disabled-fill-color: #AAA;\n",
              "      --disabled-bg-color: #DDD;\n",
              "  }\n",
              "\n",
              "  [theme=dark] .colab-df-quickchart {\n",
              "      --bg-color: #3B4455;\n",
              "      --fill-color: #D2E3FC;\n",
              "      --hover-bg-color: #434B5C;\n",
              "      --hover-fill-color: #FFFFFF;\n",
              "      --disabled-bg-color: #3B4455;\n",
              "      --disabled-fill-color: #666;\n",
              "  }\n",
              "\n",
              "  .colab-df-quickchart {\n",
              "    background-color: var(--bg-color);\n",
              "    border: none;\n",
              "    border-radius: 50%;\n",
              "    cursor: pointer;\n",
              "    display: none;\n",
              "    fill: var(--fill-color);\n",
              "    height: 32px;\n",
              "    padding: 0;\n",
              "    width: 32px;\n",
              "  }\n",
              "\n",
              "  .colab-df-quickchart:hover {\n",
              "    background-color: var(--hover-bg-color);\n",
              "    box-shadow: 0 1px 2px rgba(60, 64, 67, 0.3), 0 1px 3px 1px rgba(60, 64, 67, 0.15);\n",
              "    fill: var(--button-hover-fill-color);\n",
              "  }\n",
              "\n",
              "  .colab-df-quickchart-complete:disabled,\n",
              "  .colab-df-quickchart-complete:disabled:hover {\n",
              "    background-color: var(--disabled-bg-color);\n",
              "    fill: var(--disabled-fill-color);\n",
              "    box-shadow: none;\n",
              "  }\n",
              "\n",
              "  .colab-df-spinner {\n",
              "    border: 2px solid var(--fill-color);\n",
              "    border-color: transparent;\n",
              "    border-bottom-color: var(--fill-color);\n",
              "    animation:\n",
              "      spin 1s steps(1) infinite;\n",
              "  }\n",
              "\n",
              "  @keyframes spin {\n",
              "    0% {\n",
              "      border-color: transparent;\n",
              "      border-bottom-color: var(--fill-color);\n",
              "      border-left-color: var(--fill-color);\n",
              "    }\n",
              "    20% {\n",
              "      border-color: transparent;\n",
              "      border-left-color: var(--fill-color);\n",
              "      border-top-color: var(--fill-color);\n",
              "    }\n",
              "    30% {\n",
              "      border-color: transparent;\n",
              "      border-left-color: var(--fill-color);\n",
              "      border-top-color: var(--fill-color);\n",
              "      border-right-color: var(--fill-color);\n",
              "    }\n",
              "    40% {\n",
              "      border-color: transparent;\n",
              "      border-right-color: var(--fill-color);\n",
              "      border-top-color: var(--fill-color);\n",
              "    }\n",
              "    60% {\n",
              "      border-color: transparent;\n",
              "      border-right-color: var(--fill-color);\n",
              "    }\n",
              "    80% {\n",
              "      border-color: transparent;\n",
              "      border-right-color: var(--fill-color);\n",
              "      border-bottom-color: var(--fill-color);\n",
              "    }\n",
              "    90% {\n",
              "      border-color: transparent;\n",
              "      border-bottom-color: var(--fill-color);\n",
              "    }\n",
              "  }\n",
              "</style>\n",
              "\n",
              "      <script>\n",
              "        async function quickchart(key) {\n",
              "          const quickchartButtonEl =\n",
              "            document.querySelector('#' + key + ' button');\n",
              "          quickchartButtonEl.disabled = true;  // To prevent multiple clicks.\n",
              "          quickchartButtonEl.classList.add('colab-df-spinner');\n",
              "          try {\n",
              "            const charts = await google.colab.kernel.invokeFunction(\n",
              "                'suggestCharts', [key], {});\n",
              "          } catch (error) {\n",
              "            console.error('Error during call to suggestCharts:', error);\n",
              "          }\n",
              "          quickchartButtonEl.classList.remove('colab-df-spinner');\n",
              "          quickchartButtonEl.classList.add('colab-df-quickchart-complete');\n",
              "        }\n",
              "        (() => {\n",
              "          let quickchartButtonEl =\n",
              "            document.querySelector('#df-1f809dd5-55a8-40b9-a9ce-1dd7709a645b button');\n",
              "          quickchartButtonEl.style.display =\n",
              "            google.colab.kernel.accessAllowed ? 'block' : 'none';\n",
              "        })();\n",
              "      </script>\n",
              "    </div>\n",
              "\n",
              "    </div>\n",
              "  </div>\n"
            ],
            "text/plain": [
              "  Job Applicant Name  Age  Gender             Race   Ethnicity  \\\n",
              "0       Daisuke Mori   29    Male  Mongoloid/Asian  Vietnamese   \n",
              "1     Taichi Shimizu   31    Male  Mongoloid/Asian    Filipino   \n",
              "2       Sarah Martin   46  Female  White/Caucasian       Dutch   \n",
              "3       Keith Hughes   43    Male    Negroid/Black   Caribbean   \n",
              "4        James Davis   49    Male  White/Caucasian     English   \n",
              "\n",
              "                                              Resume             Job Roles  \\\n",
              "0  Proficient in Injury Prevention, Motivation, N...         Fitness Coach   \n",
              "1  Proficient in Healthcare, Pharmacology, Medica...             Physician   \n",
              "2  Proficient in Forecasting, Financial Modelling...     Financial Analyst   \n",
              "3  Proficient in Budgeting, Supply Chain Optimiza...  Supply Chain Manager   \n",
              "4  Proficient in Logistics, Negotiation, Procurem...  Supply Chain Manager   \n",
              "\n",
              "                                     Job Description  Best Match  \n",
              "0   A Fitness Coach is responsible for helping cl...           0  \n",
              "1  Diagnose and treat illnesses, prescribe medica...           0  \n",
              "2  As a Financial Analyst, you will be responsibl...           0  \n",
              "3  A Supply Chain Manager oversees the entire sup...           1  \n",
              "4  A Supply Chain Manager oversees the entire sup...           1  "
            ]
          },
          "execution_count": 2,
          "metadata": {},
          "output_type": "execute_result"
        }
      ],
      "source": [
        "df = pd.read_csv(\"/content/job_applicant_dataset.csv\")\n",
        "df.head()"
      ]
    },
    {
      "cell_type": "markdown",
      "metadata": {
        "id": "682o354Et1aE"
      },
      "source": []
    },
    {
      "cell_type": "code",
      "execution_count": null,
      "metadata": {
        "id": "JtBRFzU1t2sP"
      },
      "outputs": [],
      "source": [
        "df.drop(columns=[\"Job Applicant Name\"], inplace=True)"
      ]
    },
    {
      "cell_type": "markdown",
      "metadata": {
        "id": "3q2Q1fc5uCKf"
      },
      "source": []
    },
    {
      "cell_type": "code",
      "execution_count": null,
      "metadata": {
        "id": "GdhWV2IKuC85"
      },
      "outputs": [],
      "source": [
        "categoricals = [\"Gender\", \"Race\", \"Ethnicity\", \"Job Roles\"]\n",
        "label_encoders = {}\n",
        "for col in categoricals:\n",
        "    le = LabelEncoder()\n",
        "    df[col] = le.fit_transform(df[col])\n",
        "    label_encoders[col] = le"
      ]
    },
    {
      "cell_type": "markdown",
      "metadata": {
        "id": "3iAuh8AiuHL0"
      },
      "source": []
    },
    {
      "cell_type": "code",
      "execution_count": null,
      "metadata": {
        "id": "lrwBBGIjuH7b"
      },
      "outputs": [],
      "source": [
        "# TF-IDF Vectorization for text features\n",
        "tfidf_resume = TfidfVectorizer(stop_words=\"english\", max_features=100)\n",
        "tfidf_jobdesc = TfidfVectorizer(stop_words=\"english\", max_features=100)\n",
        "resume_features = tfidf_resume.fit_transform(df[\"Resume\"])\n",
        "jobdesc_features = tfidf_jobdesc.fit_transform(df[\"Job Description\"])"
      ]
    },
    {
      "cell_type": "markdown",
      "metadata": {
        "id": "-yMxmqsDuWR1"
      },
      "source": []
    },
    {
      "cell_type": "code",
      "execution_count": null,
      "metadata": {
        "id": "QhwjvafOuVuO"
      },
      "outputs": [],
      "source": [
        "# Combine features\n",
        "x_other = df[[\"Age\", \"Gender\", \"Race\", \"Ethnicity\", \"Job Roles\"]].values\n",
        "x = np.hstack((x_other, resume_features.toarray(), jobdesc_features.toarray()))\n",
        "y = df[\"Best Match\"].values"
      ]
    },
    {
      "cell_type": "markdown",
      "metadata": {
        "id": "5EU7XOdpuVdE"
      },
      "source": []
    },
    {
      "cell_type": "code",
      "execution_count": null,
      "metadata": {
        "id": "gbLsqdv9uVMD"
      },
      "outputs": [],
      "source": [
        "# Train-test split\n",
        "x_train, x_test, y_train, y_test = train_test_split(x, y, test_size=0.2, random_state=42)"
      ]
    },
    {
      "cell_type": "markdown",
      "metadata": {
        "id": "IiwT61vUuU9D"
      },
      "source": []
    },
    {
      "cell_type": "code",
      "execution_count": null,
      "metadata": {
        "colab": {
          "background_save": true,
          "base_uri": "https://localhost:8080/"
        },
        "id": "ohKxdYWVuUtr",
        "outputId": "a16d7750-7b57-4780-8950-8f23e687727a"
      },
      "outputs": [
        {
          "name": "stdout",
          "output_type": "stream",
          "text": [
            "\n",
            "Classification Report - Logistic Regression\n",
            "              precision    recall  f1-score   support\n",
            "\n",
            "           0       0.66      0.66      0.66      1023\n",
            "           1       0.65      0.64      0.64       977\n",
            "\n",
            "    accuracy                           0.65      2000\n",
            "   macro avg       0.65      0.65      0.65      2000\n",
            "weighted avg       0.65      0.65      0.65      2000\n",
            "\n",
            "\n",
            "Classification Report - Random Forest\n",
            "              precision    recall  f1-score   support\n",
            "\n",
            "           0       0.87      0.88      0.87      1023\n",
            "           1       0.87      0.86      0.87       977\n",
            "\n",
            "    accuracy                           0.87      2000\n",
            "   macro avg       0.87      0.87      0.87      2000\n",
            "weighted avg       0.87      0.87      0.87      2000\n",
            "\n",
            "\n",
            "Classification Report - Support Vector Machine\n",
            "              precision    recall  f1-score   support\n",
            "\n",
            "           0       0.69      0.71      0.70      1023\n",
            "           1       0.69      0.67      0.68       977\n",
            "\n",
            "    accuracy                           0.69      2000\n",
            "   macro avg       0.69      0.69      0.69      2000\n",
            "weighted avg       0.69      0.69      0.69      2000\n",
            "\n"
          ]
        }
      ],
      "source": [
        "# 3. Train Multiple ML Models\n",
        "# --------------------------\n",
        "models = {\n",
        "    \"Logistic Regression\": LogisticRegression(max_iter=1000),\n",
        "    \"Random Forest\": RandomForestClassifier(n_estimators=100, random_state=42),\n",
        "    \"Support Vector Machine\": SVC(kernel='linear', probability=True)\n",
        "}\n",
        "\n",
        "results = {}\n",
        "\n",
        "for name, model in models.items():\n",
        "    model.fit(x_train, y_train)\n",
        "    y_pred = model.predict(x_test)\n",
        "    acc = accuracy_score(y_test, y_pred)\n",
        "    report = classification_report(y_test, y_pred, output_dict=True)\n",
        "    results[name] = {\n",
        "        \"accuracy\": acc,\n",
        "        \"precision\": report['1']['precision'],\n",
        "        \"recall\": report['1']['recall'],\n",
        "        \"f1-score\": report['1']['f1-score'],\n",
        "        \"predictions\": y_pred\n",
        "    }\n",
        "    print(f\"\\nClassification Report - {name}\")\n",
        "    print(classification_report(y_test, y_pred))"
      ]
    },
    {
      "cell_type": "markdown",
      "metadata": {
        "id": "Krc8VvGouUbn"
      },
      "source": []
    },
    {
      "cell_type": "code",
      "execution_count": null,
      "metadata": {
        "id": "DLWQxlwcun6m"
      },
      "outputs": [],
      "source": [
        "# 4. Evaluate Bias in Predictions\n",
        "# --------------------------\n",
        "def group_accuracy(df, sensitive_attr, predictions, labels):\n",
        "    df_temp = df.iloc[y_test.index].copy()\n",
        "    df_temp[\"pred\"] = predictions\n",
        "    df_temp[\"true\"] = labels\n",
        "    return df_temp.groupby(sensitive_attr).apply(lambda x: (x.pred == x.true).mean())\n",
        "\n",
        "df_test = df.iloc[y_test.index].copy()\n",
        "\n",
        "for name, result in results.items():\n",
        "    print(f\"\\nBias Detection - {name}\")\n",
        "    df_test[\"pred\"] = result[\"predictions\"]\n",
        "    print(\"Accuracy by Gender:\")\n",
        "    print(group_accuracy(df_test, \"Gender\", df_test[\"pred\"], y_test))\n",
        "    print(\"Accuracy by Race:\")\n",
        "    print(group_accuracy(df_test, \"Race\", df_test[\"pred\"], y_test))"
      ]
    },
    {
      "cell_type": "markdown",
      "metadata": {
        "id": "1PkeCi_-uqBm"
      },
      "source": []
    },
    {
      "cell_type": "code",
      "execution_count": null,
      "metadata": {
        "id": "vRuhNtOeupyK"
      },
      "outputs": [],
      "source": []
    },
    {
      "cell_type": "markdown",
      "metadata": {
        "id": "0gxE5LlquphT"
      },
      "source": []
    },
    {
      "cell_type": "code",
      "execution_count": null,
      "metadata": {
        "id": "DpKJoTTTupSX"
      },
      "outputs": [],
      "source": []
    },
    {
      "cell_type": "markdown",
      "metadata": {
        "id": "sOeo7fVxupDI"
      },
      "source": []
    }
  ],
  "metadata": {
    "colab": {
      "provenance": [],
      "authorship_tag": "ABX9TyMF4yBsGDrarRKRIwU2ENLg",
      "include_colab_link": true
    },
    "kernelspec": {
      "display_name": "Python 3",
      "name": "python3"
    },
    "language_info": {
      "name": "python"
    }
  },
  "nbformat": 4,
  "nbformat_minor": 0
}